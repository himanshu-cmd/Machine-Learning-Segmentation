{
 "cells": [
  {
   "cell_type": "markdown",
   "metadata": {},
   "source": [
    "# CREDIT CARD SEGMENTATION"
   ]
  },
  {
   "cell_type": "code",
   "execution_count": 1,
   "metadata": {},
   "outputs": [],
   "source": [
    "import numpy as np\n",
    "import pandas as pd\n",
    "import matplotlib.pyplot as plt\n",
    "import seaborn as sns\n",
    "from sklearn.cluster import KMeans"
   ]
  },
  {
   "cell_type": "code",
   "execution_count": 2,
   "metadata": {},
   "outputs": [],
   "source": [
    "cc=pd.read_csv('G:/AnalytixLab/PYTHON & Machine learning/Assignment/M.L assignments/Unsupervised Learning (Segmentation)/Segmentation of Credit Card Customers/CC_GENERAL.csv')"
   ]
  },
  {
   "cell_type": "code",
   "execution_count": 3,
   "metadata": {},
   "outputs": [
    {
     "data": {
      "text/html": [
       "<div>\n",
       "<style scoped>\n",
       "    .dataframe tbody tr th:only-of-type {\n",
       "        vertical-align: middle;\n",
       "    }\n",
       "\n",
       "    .dataframe tbody tr th {\n",
       "        vertical-align: top;\n",
       "    }\n",
       "\n",
       "    .dataframe thead th {\n",
       "        text-align: right;\n",
       "    }\n",
       "</style>\n",
       "<table border=\"1\" class=\"dataframe\">\n",
       "  <thead>\n",
       "    <tr style=\"text-align: right;\">\n",
       "      <th></th>\n",
       "      <th>CUST_ID</th>\n",
       "      <th>BALANCE</th>\n",
       "      <th>BALANCE_FREQUENCY</th>\n",
       "      <th>PURCHASES</th>\n",
       "      <th>ONEOFF_PURCHASES</th>\n",
       "      <th>INSTALLMENTS_PURCHASES</th>\n",
       "      <th>CASH_ADVANCE</th>\n",
       "      <th>PURCHASES_FREQUENCY</th>\n",
       "      <th>ONEOFF_PURCHASES_FREQUENCY</th>\n",
       "      <th>PURCHASES_INSTALLMENTS_FREQUENCY</th>\n",
       "      <th>CASH_ADVANCE_FREQUENCY</th>\n",
       "      <th>CASH_ADVANCE_TRX</th>\n",
       "      <th>PURCHASES_TRX</th>\n",
       "      <th>CREDIT_LIMIT</th>\n",
       "      <th>PAYMENTS</th>\n",
       "      <th>MINIMUM_PAYMENTS</th>\n",
       "      <th>PRC_FULL_PAYMENT</th>\n",
       "      <th>TENURE</th>\n",
       "    </tr>\n",
       "  </thead>\n",
       "  <tbody>\n",
       "    <tr>\n",
       "      <th>0</th>\n",
       "      <td>C10001</td>\n",
       "      <td>40.900749</td>\n",
       "      <td>0.818182</td>\n",
       "      <td>95.4</td>\n",
       "      <td>0.0</td>\n",
       "      <td>95.4</td>\n",
       "      <td>0.000000</td>\n",
       "      <td>0.166667</td>\n",
       "      <td>0.0</td>\n",
       "      <td>0.083333</td>\n",
       "      <td>0.00</td>\n",
       "      <td>0</td>\n",
       "      <td>2</td>\n",
       "      <td>1000.0</td>\n",
       "      <td>201.802084</td>\n",
       "      <td>139.509787</td>\n",
       "      <td>0.000000</td>\n",
       "      <td>12</td>\n",
       "    </tr>\n",
       "    <tr>\n",
       "      <th>1</th>\n",
       "      <td>C10002</td>\n",
       "      <td>3202.467416</td>\n",
       "      <td>0.909091</td>\n",
       "      <td>0.0</td>\n",
       "      <td>0.0</td>\n",
       "      <td>0.0</td>\n",
       "      <td>6442.945483</td>\n",
       "      <td>0.000000</td>\n",
       "      <td>0.0</td>\n",
       "      <td>0.000000</td>\n",
       "      <td>0.25</td>\n",
       "      <td>4</td>\n",
       "      <td>0</td>\n",
       "      <td>7000.0</td>\n",
       "      <td>4103.032597</td>\n",
       "      <td>1072.340217</td>\n",
       "      <td>0.222222</td>\n",
       "      <td>12</td>\n",
       "    </tr>\n",
       "  </tbody>\n",
       "</table>\n",
       "</div>"
      ],
      "text/plain": [
       "  CUST_ID      BALANCE  BALANCE_FREQUENCY  PURCHASES  ONEOFF_PURCHASES  \\\n",
       "0  C10001    40.900749           0.818182       95.4               0.0   \n",
       "1  C10002  3202.467416           0.909091        0.0               0.0   \n",
       "\n",
       "   INSTALLMENTS_PURCHASES  CASH_ADVANCE  PURCHASES_FREQUENCY  \\\n",
       "0                    95.4      0.000000             0.166667   \n",
       "1                     0.0   6442.945483             0.000000   \n",
       "\n",
       "   ONEOFF_PURCHASES_FREQUENCY  PURCHASES_INSTALLMENTS_FREQUENCY  \\\n",
       "0                         0.0                          0.083333   \n",
       "1                         0.0                          0.000000   \n",
       "\n",
       "   CASH_ADVANCE_FREQUENCY  CASH_ADVANCE_TRX  PURCHASES_TRX  CREDIT_LIMIT  \\\n",
       "0                    0.00                 0              2        1000.0   \n",
       "1                    0.25                 4              0        7000.0   \n",
       "\n",
       "      PAYMENTS  MINIMUM_PAYMENTS  PRC_FULL_PAYMENT  TENURE  \n",
       "0   201.802084        139.509787          0.000000      12  \n",
       "1  4103.032597       1072.340217          0.222222      12  "
      ]
     },
     "execution_count": 3,
     "metadata": {},
     "output_type": "execute_result"
    }
   ],
   "source": [
    "cc.head(2)"
   ]
  },
  {
   "cell_type": "code",
   "execution_count": null,
   "metadata": {
    "scrolled": false
   },
   "outputs": [],
   "source": [
    "# import pandas_profiling as PP\n",
    "# PP.ProfileReport(cc)"
   ]
  },
  {
   "cell_type": "code",
   "execution_count": 4,
   "metadata": {},
   "outputs": [
    {
     "data": {
      "text/plain": [
       "CUST_ID                              object\n",
       "BALANCE                             float64\n",
       "BALANCE_FREQUENCY                   float64\n",
       "PURCHASES                           float64\n",
       "ONEOFF_PURCHASES                    float64\n",
       "INSTALLMENTS_PURCHASES              float64\n",
       "CASH_ADVANCE                        float64\n",
       "PURCHASES_FREQUENCY                 float64\n",
       "ONEOFF_PURCHASES_FREQUENCY          float64\n",
       "PURCHASES_INSTALLMENTS_FREQUENCY    float64\n",
       "CASH_ADVANCE_FREQUENCY              float64\n",
       "CASH_ADVANCE_TRX                      int64\n",
       "PURCHASES_TRX                         int64\n",
       "CREDIT_LIMIT                        float64\n",
       "PAYMENTS                            float64\n",
       "MINIMUM_PAYMENTS                    float64\n",
       "PRC_FULL_PAYMENT                    float64\n",
       "TENURE                                int64\n",
       "dtype: object"
      ]
     },
     "execution_count": 4,
     "metadata": {},
     "output_type": "execute_result"
    }
   ],
   "source": [
    "cc.dtypes"
   ]
  },
  {
   "cell_type": "code",
   "execution_count": 5,
   "metadata": {},
   "outputs": [
    {
     "data": {
      "text/plain": [
       "MINIMUM_PAYMENTS       3.497207\n",
       "CREDIT_LIMIT           0.011173\n",
       "TENURE                 0.000000\n",
       "PURCHASES_FREQUENCY    0.000000\n",
       "dtype: float64"
      ]
     },
     "execution_count": 5,
     "metadata": {},
     "output_type": "execute_result"
    }
   ],
   "source": [
    "# Checking presence of NULL-values\n",
    "t=cc.shape[0]\n",
    "(cc.isnull().sum().sort_values(ascending=False).head(4)/t)*100"
   ]
  },
  {
   "cell_type": "markdown",
   "metadata": {},
   "source": [
    "Exploratory Analysis( Derrivation of KPIs (Key performance indices) )"
   ]
  },
  {
   "cell_type": "code",
   "execution_count": 32,
   "metadata": {
    "scrolled": true
   },
   "outputs": [
    {
     "data": {
      "text/plain": [
       "<matplotlib.axes._subplots.AxesSubplot at 0x217792d1988>"
      ]
     },
     "execution_count": 32,
     "metadata": {},
     "output_type": "execute_result"
    },
    {
     "data": {
      "image/png": "[encoded data removed]",
      "text/plain": [
       "<Figure size 432x288 with 1 Axes>"
      ]
     },
     "metadata": {},
     "output_type": "display_data"
    }
   ],
   "source": [
    "sns.violinplot(x=cc['MINIMUM_PAYMENTS'])"
   ]
  },
  {
   "cell_type": "code",
   "execution_count": 29,
   "metadata": {},
   "outputs": [
    {
     "name": "stdout",
     "output_type": "stream",
     "text": [
      "Monthly average purchase amount: 748223.605\n",
      "Monthly average cash-advance amount: 730074.7047138334\n"
     ]
    },
    {
     "data": {
      "text/plain": [
       "<matplotlib.legend.Legend at 0x1934434cdc8>"
      ]
     },
     "execution_count": 29,
     "metadata": {},
     "output_type": "execute_result"
    },
    {
     "data": {
      "image/png": "[encoded data removed]",
      "text/plain": [
       "<Figure size 432x288 with 1 Axes>"
      ]
     },
     "metadata": {
      "needs_background": "light"
     },
     "output_type": "display_data"
    }
   ],
   "source": [
    "a=cc['PURCHASES'].sum()/12\n",
    "b=cc['CASH_ADVANCE'].sum()/12\n",
    "print(f'Monthly average purchase amount: {a}')\n",
    "print(f'Monthly average cash-advance amount: {b}')\n",
    "bar_width=0.1\n",
    "# ind=np.arange(1,3)\n",
    "plt.bar(1,a,color='#e033ff',label='PURCHASES',width=bar_width)\n",
    "plt.bar(1.1+bar_width,b,color='#a2ff33',label='CASH_ADVANCE',width=bar_width)\n",
    "plt.legend(bbox_to_anchor=(1.0,1.0))"
   ]
  },
  {
   "cell_type": "code",
   "execution_count": 28,
   "metadata": {},
   "outputs": [
    {
     "name": "stdout",
     "output_type": "stream",
     "text": [
      "Total One-off-purchase: 7765279.7299999995\n",
      "Total Installment-purchase: 7504296.84\n"
     ]
    },
    {
     "data": {
      "text/plain": [
       "<matplotlib.legend.Legend at 0x1934429fe48>"
      ]
     },
     "execution_count": 28,
     "metadata": {},
     "output_type": "execute_result"
    },
    {
     "data": {
      "image/png": "[encoded data removed]",
      "text/plain": [
       "<Figure size 432x288 with 1 Axes>"
      ]
     },
     "metadata": {
      "needs_background": "light"
     },
     "output_type": "display_data"
    }
   ],
   "source": [
    "purchase_1off=cc.loc[cc['ONEOFF_PURCHASES']>0]['PURCHASES'].sum()\n",
    "purchase_installment=cc.loc[cc['INSTALLMENTS_PURCHASES']>0]['PURCHASES'].sum()\n",
    "print(f'Total One-off-purchase: {purchase_1off}')\n",
    "print(f'Total Installment-purchase: {purchase_installment}')\n",
    "bar_width=0.1\n",
    "# ind=np.arange(1,3)\n",
    "plt.bar(1,purchase_1off,color='#e033ff',label='ONEOFF_PURCHASES',width=bar_width)\n",
    "plt.bar(1.1+bar_width,purchase_installment,color='#a2ff33',label='INSTALLMENTS_PURCHASES',width=bar_width)\n",
    "plt.legend(bbox_to_anchor=(1.0,1.0))"
   ]
  },
  {
   "cell_type": "code",
   "execution_count": 11,
   "metadata": {},
   "outputs": [
    {
     "name": "stdout",
     "output_type": "stream",
     "text": [
      "Average amount per purchase: 170.49109676640663\n"
     ]
    }
   ],
   "source": [
    "average_purchase=cc['PURCHASES'].sum()/((cc['PURCHASES_FREQUENCY'].sum())*12)\n",
    "print(f'Average amount per purchase: {average_purchase}')"
   ]
  },
  {
   "cell_type": "code",
   "execution_count": 24,
   "metadata": {},
   "outputs": [
    {
     "data": {
      "text/plain": [
       "<matplotlib.axes._subplots.AxesSubplot at 0x16823723f08>"
      ]
     },
     "execution_count": 24,
     "metadata": {},
     "output_type": "execute_result"
    },
    {
     "data": {
      "image/png": "[encoded data removed]",
      "text/plain": [
       "<Figure size 432x288 with 1 Axes>"
      ]
     },
     "metadata": {
      "needs_background": "light"
     },
     "output_type": "display_data"
    }
   ],
   "source": [
    "bal_cred_ratio=cc['BALANCE']/cc['CREDIT_LIMIT']\n",
    "sns.distplot(bal_cred_ratio,hist = False) # Density-plot"
   ]
  },
  {
   "cell_type": "code",
   "execution_count": 25,
   "metadata": {},
   "outputs": [
    {
     "data": {
      "text/plain": [
       "<matplotlib.axes._subplots.AxesSubplot at 0x1682378dcc8>"
      ]
     },
     "execution_count": 25,
     "metadata": {},
     "output_type": "execute_result"
    },
    {
     "data": {
      "image/png": "[encoded data removed]",
      "text/plain": [
       "<Figure size 432x288 with 1 Axes>"
      ]
     },
     "metadata": {
      "needs_background": "light"
     },
     "output_type": "display_data"
    }
   ],
   "source": [
    "payment_minPayment_ratio=cc['PAYMENTS']/cc['MINIMUM_PAYMENTS']\n",
    "sns.distplot(payment_minPayment_ratio,hist = False)  # Density-plot"
   ]
  },
  {
   "cell_type": "code",
   "execution_count": null,
   "metadata": {},
   "outputs": [],
   "source": []
  },
  {
   "cell_type": "markdown",
   "metadata": {},
   "source": [
    "Predictive-Modelling"
   ]
  },
  {
   "cell_type": "code",
   "execution_count": 5,
   "metadata": {},
   "outputs": [],
   "source": [
    "cc1=cc.copy()"
   ]
  },
  {
   "cell_type": "code",
   "execution_count": 6,
   "metadata": {},
   "outputs": [],
   "source": [
    "# Drop categorical variables\n",
    "cc1.drop('CUST_ID',axis=1,inplace=True)"
   ]
  },
  {
   "cell_type": "code",
   "execution_count": 7,
   "metadata": {},
   "outputs": [
    {
     "data": {
      "text/html": [
       "<div>\n",
       "<style scoped>\n",
       "    .dataframe tbody tr th:only-of-type {\n",
       "        vertical-align: middle;\n",
       "    }\n",
       "\n",
       "    .dataframe tbody tr th {\n",
       "        vertical-align: top;\n",
       "    }\n",
       "\n",
       "    .dataframe thead th {\n",
       "        text-align: right;\n",
       "    }\n",
       "</style>\n",
       "<table border=\"1\" class=\"dataframe\">\n",
       "  <thead>\n",
       "    <tr style=\"text-align: right;\">\n",
       "      <th></th>\n",
       "      <th>N</th>\n",
       "      <th>NMISS</th>\n",
       "      <th>SUM</th>\n",
       "      <th>MEAN</th>\n",
       "      <th>MEDIAN</th>\n",
       "      <th>St~DEV</th>\n",
       "      <th>VAR</th>\n",
       "      <th>MIN</th>\n",
       "      <th>P1</th>\n",
       "      <th>P5</th>\n",
       "      <th>P10</th>\n",
       "      <th>P25</th>\n",
       "      <th>P50</th>\n",
       "      <th>P75</th>\n",
       "      <th>P90</th>\n",
       "      <th>P95</th>\n",
       "      <th>P99</th>\n",
       "      <th>MAX</th>\n",
       "    </tr>\n",
       "  </thead>\n",
       "  <tbody>\n",
       "    <tr>\n",
       "      <th>BALANCE</th>\n",
       "      <td>8950.0</td>\n",
       "      <td>0.0</td>\n",
       "      <td>14002049.71</td>\n",
       "      <td>1564.47</td>\n",
       "      <td>873.39</td>\n",
       "      <td>2081.53</td>\n",
       "      <td>4332774.97</td>\n",
       "      <td>0.00</td>\n",
       "      <td>0.07</td>\n",
       "      <td>8.81</td>\n",
       "      <td>23.58</td>\n",
       "      <td>128.28</td>\n",
       "      <td>873.39</td>\n",
       "      <td>2054.14</td>\n",
       "      <td>4338.56</td>\n",
       "      <td>5909.11</td>\n",
       "      <td>9338.80</td>\n",
       "      <td>19043.14</td>\n",
       "    </tr>\n",
       "    <tr>\n",
       "      <th>BALANCE_FREQUENCY</th>\n",
       "      <td>8950.0</td>\n",
       "      <td>0.0</td>\n",
       "      <td>7851.57</td>\n",
       "      <td>0.88</td>\n",
       "      <td>1.00</td>\n",
       "      <td>0.24</td>\n",
       "      <td>0.06</td>\n",
       "      <td>0.00</td>\n",
       "      <td>0.09</td>\n",
       "      <td>0.27</td>\n",
       "      <td>0.45</td>\n",
       "      <td>0.89</td>\n",
       "      <td>1.00</td>\n",
       "      <td>1.00</td>\n",
       "      <td>1.00</td>\n",
       "      <td>1.00</td>\n",
       "      <td>1.00</td>\n",
       "      <td>1.00</td>\n",
       "    </tr>\n",
       "    <tr>\n",
       "      <th>PURCHASES</th>\n",
       "      <td>8950.0</td>\n",
       "      <td>0.0</td>\n",
       "      <td>8978683.26</td>\n",
       "      <td>1003.20</td>\n",
       "      <td>361.28</td>\n",
       "      <td>2136.63</td>\n",
       "      <td>4565208.19</td>\n",
       "      <td>0.00</td>\n",
       "      <td>0.00</td>\n",
       "      <td>0.00</td>\n",
       "      <td>0.00</td>\n",
       "      <td>39.64</td>\n",
       "      <td>361.28</td>\n",
       "      <td>1110.13</td>\n",
       "      <td>2542.62</td>\n",
       "      <td>3998.62</td>\n",
       "      <td>8977.29</td>\n",
       "      <td>49039.57</td>\n",
       "    </tr>\n",
       "    <tr>\n",
       "      <th>ONEOFF_PURCHASES</th>\n",
       "      <td>8950.0</td>\n",
       "      <td>0.0</td>\n",
       "      <td>5302314.47</td>\n",
       "      <td>592.44</td>\n",
       "      <td>38.00</td>\n",
       "      <td>1659.89</td>\n",
       "      <td>2755227.90</td>\n",
       "      <td>0.00</td>\n",
       "      <td>0.00</td>\n",
       "      <td>0.00</td>\n",
       "      <td>0.00</td>\n",
       "      <td>0.00</td>\n",
       "      <td>38.00</td>\n",
       "      <td>577.41</td>\n",
       "      <td>1600.10</td>\n",
       "      <td>2671.09</td>\n",
       "      <td>6689.90</td>\n",
       "      <td>40761.25</td>\n",
       "    </tr>\n",
       "    <tr>\n",
       "      <th>INSTALLMENTS_PURCHASES</th>\n",
       "      <td>8950.0</td>\n",
       "      <td>0.0</td>\n",
       "      <td>3679055.42</td>\n",
       "      <td>411.07</td>\n",
       "      <td>89.00</td>\n",
       "      <td>904.34</td>\n",
       "      <td>817827.43</td>\n",
       "      <td>0.00</td>\n",
       "      <td>0.00</td>\n",
       "      <td>0.00</td>\n",
       "      <td>0.00</td>\n",
       "      <td>0.00</td>\n",
       "      <td>89.00</td>\n",
       "      <td>468.64</td>\n",
       "      <td>1140.07</td>\n",
       "      <td>1750.09</td>\n",
       "      <td>3886.24</td>\n",
       "      <td>22500.00</td>\n",
       "    </tr>\n",
       "    <tr>\n",
       "      <th>CASH_ADVANCE</th>\n",
       "      <td>8950.0</td>\n",
       "      <td>0.0</td>\n",
       "      <td>8760896.46</td>\n",
       "      <td>978.87</td>\n",
       "      <td>0.00</td>\n",
       "      <td>2097.16</td>\n",
       "      <td>4398096.33</td>\n",
       "      <td>0.00</td>\n",
       "      <td>0.00</td>\n",
       "      <td>0.00</td>\n",
       "      <td>0.00</td>\n",
       "      <td>0.00</td>\n",
       "      <td>0.00</td>\n",
       "      <td>1113.82</td>\n",
       "      <td>3065.53</td>\n",
       "      <td>4647.17</td>\n",
       "      <td>9588.16</td>\n",
       "      <td>47137.21</td>\n",
       "    </tr>\n",
       "    <tr>\n",
       "      <th>PURCHASES_FREQUENCY</th>\n",
       "      <td>8950.0</td>\n",
       "      <td>0.0</td>\n",
       "      <td>4388.64</td>\n",
       "      <td>0.49</td>\n",
       "      <td>0.50</td>\n",
       "      <td>0.40</td>\n",
       "      <td>0.16</td>\n",
       "      <td>0.00</td>\n",
       "      <td>0.00</td>\n",
       "      <td>0.00</td>\n",
       "      <td>0.00</td>\n",
       "      <td>0.08</td>\n",
       "      <td>0.50</td>\n",
       "      <td>0.92</td>\n",
       "      <td>1.00</td>\n",
       "      <td>1.00</td>\n",
       "      <td>1.00</td>\n",
       "      <td>1.00</td>\n",
       "    </tr>\n",
       "    <tr>\n",
       "      <th>ONEOFF_PURCHASES_FREQUENCY</th>\n",
       "      <td>8950.0</td>\n",
       "      <td>0.0</td>\n",
       "      <td>1812.00</td>\n",
       "      <td>0.20</td>\n",
       "      <td>0.08</td>\n",
       "      <td>0.30</td>\n",
       "      <td>0.09</td>\n",
       "      <td>0.00</td>\n",
       "      <td>0.00</td>\n",
       "      <td>0.00</td>\n",
       "      <td>0.00</td>\n",
       "      <td>0.00</td>\n",
       "      <td>0.08</td>\n",
       "      <td>0.30</td>\n",
       "      <td>0.75</td>\n",
       "      <td>1.00</td>\n",
       "      <td>1.00</td>\n",
       "      <td>1.00</td>\n",
       "    </tr>\n",
       "    <tr>\n",
       "      <th>PURCHASES_INSTALLMENTS_FREQUENCY</th>\n",
       "      <td>8950.0</td>\n",
       "      <td>0.0</td>\n",
       "      <td>3261.71</td>\n",
       "      <td>0.36</td>\n",
       "      <td>0.17</td>\n",
       "      <td>0.40</td>\n",
       "      <td>0.16</td>\n",
       "      <td>0.00</td>\n",
       "      <td>0.00</td>\n",
       "      <td>0.00</td>\n",
       "      <td>0.00</td>\n",
       "      <td>0.00</td>\n",
       "      <td>0.17</td>\n",
       "      <td>0.75</td>\n",
       "      <td>1.00</td>\n",
       "      <td>1.00</td>\n",
       "      <td>1.00</td>\n",
       "      <td>1.00</td>\n",
       "    </tr>\n",
       "    <tr>\n",
       "      <th>CASH_ADVANCE_FREQUENCY</th>\n",
       "      <td>8950.0</td>\n",
       "      <td>0.0</td>\n",
       "      <td>1209.54</td>\n",
       "      <td>0.14</td>\n",
       "      <td>0.00</td>\n",
       "      <td>0.20</td>\n",
       "      <td>0.04</td>\n",
       "      <td>0.00</td>\n",
       "      <td>0.00</td>\n",
       "      <td>0.00</td>\n",
       "      <td>0.00</td>\n",
       "      <td>0.00</td>\n",
       "      <td>0.00</td>\n",
       "      <td>0.22</td>\n",
       "      <td>0.42</td>\n",
       "      <td>0.58</td>\n",
       "      <td>0.83</td>\n",
       "      <td>1.50</td>\n",
       "    </tr>\n",
       "    <tr>\n",
       "      <th>CASH_ADVANCE_TRX</th>\n",
       "      <td>8950.0</td>\n",
       "      <td>0.0</td>\n",
       "      <td>29077.00</td>\n",
       "      <td>3.25</td>\n",
       "      <td>0.00</td>\n",
       "      <td>6.82</td>\n",
       "      <td>46.58</td>\n",
       "      <td>0.00</td>\n",
       "      <td>0.00</td>\n",
       "      <td>0.00</td>\n",
       "      <td>0.00</td>\n",
       "      <td>0.00</td>\n",
       "      <td>0.00</td>\n",
       "      <td>4.00</td>\n",
       "      <td>10.00</td>\n",
       "      <td>15.00</td>\n",
       "      <td>29.00</td>\n",
       "      <td>123.00</td>\n",
       "    </tr>\n",
       "    <tr>\n",
       "      <th>PURCHASES_TRX</th>\n",
       "      <td>8950.0</td>\n",
       "      <td>0.0</td>\n",
       "      <td>131653.00</td>\n",
       "      <td>14.71</td>\n",
       "      <td>7.00</td>\n",
       "      <td>24.86</td>\n",
       "      <td>617.90</td>\n",
       "      <td>0.00</td>\n",
       "      <td>0.00</td>\n",
       "      <td>0.00</td>\n",
       "      <td>0.00</td>\n",
       "      <td>1.00</td>\n",
       "      <td>7.00</td>\n",
       "      <td>17.00</td>\n",
       "      <td>37.00</td>\n",
       "      <td>57.00</td>\n",
       "      <td>116.51</td>\n",
       "      <td>358.00</td>\n",
       "    </tr>\n",
       "    <tr>\n",
       "      <th>CREDIT_LIMIT</th>\n",
       "      <td>8949.0</td>\n",
       "      <td>1.0</td>\n",
       "      <td>40220828.13</td>\n",
       "      <td>4494.45</td>\n",
       "      <td>3000.00</td>\n",
       "      <td>3638.82</td>\n",
       "      <td>13240979.88</td>\n",
       "      <td>50.00</td>\n",
       "      <td>500.00</td>\n",
       "      <td>1000.00</td>\n",
       "      <td>1200.00</td>\n",
       "      <td>1600.00</td>\n",
       "      <td>3000.00</td>\n",
       "      <td>6500.00</td>\n",
       "      <td>9500.00</td>\n",
       "      <td>12000.00</td>\n",
       "      <td>17000.00</td>\n",
       "      <td>30000.00</td>\n",
       "    </tr>\n",
       "    <tr>\n",
       "      <th>PAYMENTS</th>\n",
       "      <td>8950.0</td>\n",
       "      <td>0.0</td>\n",
       "      <td>15511637.48</td>\n",
       "      <td>1733.14</td>\n",
       "      <td>856.90</td>\n",
       "      <td>2895.06</td>\n",
       "      <td>8381394.16</td>\n",
       "      <td>0.00</td>\n",
       "      <td>0.00</td>\n",
       "      <td>89.99</td>\n",
       "      <td>179.62</td>\n",
       "      <td>383.28</td>\n",
       "      <td>856.90</td>\n",
       "      <td>1901.13</td>\n",
       "      <td>3923.91</td>\n",
       "      <td>6082.09</td>\n",
       "      <td>13608.72</td>\n",
       "      <td>50721.48</td>\n",
       "    </tr>\n",
       "    <tr>\n",
       "      <th>MINIMUM_PAYMENTS</th>\n",
       "      <td>8637.0</td>\n",
       "      <td>313.0</td>\n",
       "      <td>7464151.91</td>\n",
       "      <td>864.21</td>\n",
       "      <td>312.34</td>\n",
       "      <td>2372.45</td>\n",
       "      <td>5628502.90</td>\n",
       "      <td>0.02</td>\n",
       "      <td>19.52</td>\n",
       "      <td>73.28</td>\n",
       "      <td>106.03</td>\n",
       "      <td>169.12</td>\n",
       "      <td>312.34</td>\n",
       "      <td>825.49</td>\n",
       "      <td>1780.65</td>\n",
       "      <td>2766.56</td>\n",
       "      <td>9034.10</td>\n",
       "      <td>76406.21</td>\n",
       "    </tr>\n",
       "    <tr>\n",
       "      <th>PRC_FULL_PAYMENT</th>\n",
       "      <td>8950.0</td>\n",
       "      <td>0.0</td>\n",
       "      <td>1375.75</td>\n",
       "      <td>0.15</td>\n",
       "      <td>0.00</td>\n",
       "      <td>0.29</td>\n",
       "      <td>0.09</td>\n",
       "      <td>0.00</td>\n",
       "      <td>0.00</td>\n",
       "      <td>0.00</td>\n",
       "      <td>0.00</td>\n",
       "      <td>0.00</td>\n",
       "      <td>0.00</td>\n",
       "      <td>0.14</td>\n",
       "      <td>0.67</td>\n",
       "      <td>1.00</td>\n",
       "      <td>1.00</td>\n",
       "      <td>1.00</td>\n",
       "    </tr>\n",
       "    <tr>\n",
       "      <th>TENURE</th>\n",
       "      <td>8950.0</td>\n",
       "      <td>0.0</td>\n",
       "      <td>103080.00</td>\n",
       "      <td>11.52</td>\n",
       "      <td>12.00</td>\n",
       "      <td>1.34</td>\n",
       "      <td>1.79</td>\n",
       "      <td>6.00</td>\n",
       "      <td>6.00</td>\n",
       "      <td>8.00</td>\n",
       "      <td>10.00</td>\n",
       "      <td>12.00</td>\n",
       "      <td>12.00</td>\n",
       "      <td>12.00</td>\n",
       "      <td>12.00</td>\n",
       "      <td>12.00</td>\n",
       "      <td>12.00</td>\n",
       "      <td>12.00</td>\n",
       "    </tr>\n",
       "  </tbody>\n",
       "</table>\n",
       "</div>"
      ],
      "text/plain": [
       "                                       N  NMISS          SUM     MEAN  \\\n",
       "BALANCE                           8950.0    0.0  14002049.71  1564.47   \n",
       "BALANCE_FREQUENCY                 8950.0    0.0      7851.57     0.88   \n",
       "PURCHASES                         8950.0    0.0   8978683.26  1003.20   \n",
       "ONEOFF_PURCHASES                  8950.0    0.0   5302314.47   592.44   \n",
       "INSTALLMENTS_PURCHASES            8950.0    0.0   3679055.42   411.07   \n",
       "CASH_ADVANCE                      8950.0    0.0   8760896.46   978.87   \n",
       "PURCHASES_FREQUENCY               8950.0    0.0      4388.64     0.49   \n",
       "ONEOFF_PURCHASES_FREQUENCY        8950.0    0.0      1812.00     0.20   \n",
       "PURCHASES_INSTALLMENTS_FREQUENCY  8950.0    0.0      3261.71     0.36   \n",
       "CASH_ADVANCE_FREQUENCY            8950.0    0.0      1209.54     0.14   \n",
       "CASH_ADVANCE_TRX                  8950.0    0.0     29077.00     3.25   \n",
       "PURCHASES_TRX                     8950.0    0.0    131653.00    14.71   \n",
       "CREDIT_LIMIT                      8949.0    1.0  40220828.13  4494.45   \n",
       "PAYMENTS                          8950.0    0.0  15511637.48  1733.14   \n",
       "MINIMUM_PAYMENTS                  8637.0  313.0   7464151.91   864.21   \n",
       "PRC_FULL_PAYMENT                  8950.0    0.0      1375.75     0.15   \n",
       "TENURE                            8950.0    0.0    103080.00    11.52   \n",
       "\n",
       "                                   MEDIAN   St~DEV          VAR    MIN  \\\n",
       "BALANCE                            873.39  2081.53   4332774.97   0.00   \n",
       "BALANCE_FREQUENCY                    1.00     0.24         0.06   0.00   \n",
       "PURCHASES                          361.28  2136.63   4565208.19   0.00   \n",
       "ONEOFF_PURCHASES                    38.00  1659.89   2755227.90   0.00   \n",
       "INSTALLMENTS_PURCHASES              89.00   904.34    817827.43   0.00   \n",
       "CASH_ADVANCE                         0.00  2097.16   4398096.33   0.00   \n",
       "PURCHASES_FREQUENCY                  0.50     0.40         0.16   0.00   \n",
       "ONEOFF_PURCHASES_FREQUENCY           0.08     0.30         0.09   0.00   \n",
       "PURCHASES_INSTALLMENTS_FREQUENCY     0.17     0.40         0.16   0.00   \n",
       "CASH_ADVANCE_FREQUENCY               0.00     0.20         0.04   0.00   \n",
       "CASH_ADVANCE_TRX                     0.00     6.82        46.58   0.00   \n",
       "PURCHASES_TRX                        7.00    24.86       617.90   0.00   \n",
       "CREDIT_LIMIT                      3000.00  3638.82  13240979.88  50.00   \n",
       "PAYMENTS                           856.90  2895.06   8381394.16   0.00   \n",
       "MINIMUM_PAYMENTS                   312.34  2372.45   5628502.90   0.02   \n",
       "PRC_FULL_PAYMENT                     0.00     0.29         0.09   0.00   \n",
       "TENURE                              12.00     1.34         1.79   6.00   \n",
       "\n",
       "                                      P1       P5      P10      P25      P50  \\\n",
       "BALANCE                             0.07     8.81    23.58   128.28   873.39   \n",
       "BALANCE_FREQUENCY                   0.09     0.27     0.45     0.89     1.00   \n",
       "PURCHASES                           0.00     0.00     0.00    39.64   361.28   \n",
       "ONEOFF_PURCHASES                    0.00     0.00     0.00     0.00    38.00   \n",
       "INSTALLMENTS_PURCHASES              0.00     0.00     0.00     0.00    89.00   \n",
       "CASH_ADVANCE                        0.00     0.00     0.00     0.00     0.00   \n",
       "PURCHASES_FREQUENCY                 0.00     0.00     0.00     0.08     0.50   \n",
       "ONEOFF_PURCHASES_FREQUENCY          0.00     0.00     0.00     0.00     0.08   \n",
       "PURCHASES_INSTALLMENTS_FREQUENCY    0.00     0.00     0.00     0.00     0.17   \n",
       "CASH_ADVANCE_FREQUENCY              0.00     0.00     0.00     0.00     0.00   \n",
       "CASH_ADVANCE_TRX                    0.00     0.00     0.00     0.00     0.00   \n",
       "PURCHASES_TRX                       0.00     0.00     0.00     1.00     7.00   \n",
       "CREDIT_LIMIT                      500.00  1000.00  1200.00  1600.00  3000.00   \n",
       "PAYMENTS                            0.00    89.99   179.62   383.28   856.90   \n",
       "MINIMUM_PAYMENTS                   19.52    73.28   106.03   169.12   312.34   \n",
       "PRC_FULL_PAYMENT                    0.00     0.00     0.00     0.00     0.00   \n",
       "TENURE                              6.00     8.00    10.00    12.00    12.00   \n",
       "\n",
       "                                      P75      P90       P95       P99  \\\n",
       "BALANCE                           2054.14  4338.56   5909.11   9338.80   \n",
       "BALANCE_FREQUENCY                    1.00     1.00      1.00      1.00   \n",
       "PURCHASES                         1110.13  2542.62   3998.62   8977.29   \n",
       "ONEOFF_PURCHASES                   577.41  1600.10   2671.09   6689.90   \n",
       "INSTALLMENTS_PURCHASES             468.64  1140.07   1750.09   3886.24   \n",
       "CASH_ADVANCE                      1113.82  3065.53   4647.17   9588.16   \n",
       "PURCHASES_FREQUENCY                  0.92     1.00      1.00      1.00   \n",
       "ONEOFF_PURCHASES_FREQUENCY           0.30     0.75      1.00      1.00   \n",
       "PURCHASES_INSTALLMENTS_FREQUENCY     0.75     1.00      1.00      1.00   \n",
       "CASH_ADVANCE_FREQUENCY               0.22     0.42      0.58      0.83   \n",
       "CASH_ADVANCE_TRX                     4.00    10.00     15.00     29.00   \n",
       "PURCHASES_TRX                       17.00    37.00     57.00    116.51   \n",
       "CREDIT_LIMIT                      6500.00  9500.00  12000.00  17000.00   \n",
       "PAYMENTS                          1901.13  3923.91   6082.09  13608.72   \n",
       "MINIMUM_PAYMENTS                   825.49  1780.65   2766.56   9034.10   \n",
       "PRC_FULL_PAYMENT                     0.14     0.67      1.00      1.00   \n",
       "TENURE                              12.00    12.00     12.00     12.00   \n",
       "\n",
       "                                       MAX  \n",
       "BALANCE                           19043.14  \n",
       "BALANCE_FREQUENCY                     1.00  \n",
       "PURCHASES                         49039.57  \n",
       "ONEOFF_PURCHASES                  40761.25  \n",
       "INSTALLMENTS_PURCHASES            22500.00  \n",
       "CASH_ADVANCE                      47137.21  \n",
       "PURCHASES_FREQUENCY                   1.00  \n",
       "ONEOFF_PURCHASES_FREQUENCY            1.00  \n",
       "PURCHASES_INSTALLMENTS_FREQUENCY      1.00  \n",
       "CASH_ADVANCE_FREQUENCY                1.50  \n",
       "CASH_ADVANCE_TRX                    123.00  \n",
       "PURCHASES_TRX                       358.00  \n",
       "CREDIT_LIMIT                      30000.00  \n",
       "PAYMENTS                          50721.48  \n",
       "MINIMUM_PAYMENTS                  76406.21  \n",
       "PRC_FULL_PAYMENT                      1.00  \n",
       "TENURE                               12.00  "
      ]
     },
     "execution_count": 7,
     "metadata": {},
     "output_type": "execute_result"
    }
   ],
   "source": [
    "def contimous_var_summary(x):\n",
    "    return pd.Series([x.count(),x.isnull().sum(),x.sum(),x.mean(),x.median(),x.std(),x.var(),x.min(),\n",
    "                      x.dropna().quantile(0.01),x.dropna().quantile(0.05),x.dropna().quantile(0.10),x.dropna().quantile(0.25),\n",
    "                      x.dropna().quantile(0.50),x.dropna().quantile(0.75),x.dropna().quantile(0.90),x.dropna().quantile(0.95),\n",
    "                      x.dropna().quantile(0.99),x.max()],index=['N','NMISS','SUM','MEAN','MEDIAN','St~DEV','VAR','MIN','P1',\n",
    "                                                                'P5','P10','P25','P50','P75','P90','P95','P99','MAX'])\n",
    "cc1.apply(lambda a:contimous_var_summary(a)).T.round(2)"
   ]
  },
  {
   "cell_type": "code",
   "execution_count": 8,
   "metadata": {},
   "outputs": [],
   "source": [
    "# Outlier-handling\n",
    "cc1=cc1.apply(lambda x: x.clip(lower=x.quantile(0.01),upper=x.quantile(0.99)))"
   ]
  },
  {
   "cell_type": "code",
   "execution_count": 9,
   "metadata": {},
   "outputs": [],
   "source": [
    "def data_amputation(x):\n",
    "    x=x.fillna(x.mean())\n",
    "    return x\n",
    "cc1=cc1.apply(lambda x:data_amputation(x))"
   ]
  },
  {
   "cell_type": "code",
   "execution_count": 10,
   "metadata": {},
   "outputs": [
    {
     "data": {
      "text/plain": [
       "array([[-0.76285553, -0.25596817, -0.55132729, ..., -0.49991713,\n",
       "        -0.52555097,  0.36067954],\n",
       "       [ 0.84486711,  0.13250091, -0.61388057, ...,  0.24290272,\n",
       "         0.2342269 ,  0.36067954],\n",
       "       [ 0.48518086,  0.52096999, -0.10691708, ..., -0.11149825,\n",
       "        -0.52555097,  0.36067954],\n",
       "       ...,\n",
       "       [-0.7717557 , -0.19122546, -0.51919825, ..., -0.54537945,\n",
       "         0.32919999, -4.12276757],\n",
       "       [-0.77681097, -0.19122546, -0.61388057, ..., -0.56661119,\n",
       "         0.32919999, -4.12276757],\n",
       "       [-0.59412458, -0.90341664,  0.10295769, ..., -0.54070466,\n",
       "        -0.52555097, -4.12276757]])"
      ]
     },
     "execution_count": 10,
     "metadata": {},
     "output_type": "execute_result"
    }
   ],
   "source": [
    "from sklearn.preprocessing import StandardScaler\n",
    "sc=StandardScaler()\n",
    "cc_scaled=sc.fit_transform(cc1)\n",
    "cc_scaled"
   ]
  },
  {
   "cell_type": "code",
   "execution_count": 11,
   "metadata": {},
   "outputs": [
    {
     "data": {
      "text/plain": [
       "array([[-1.76425313e+00, -1.42357677e+00,  2.20599794e-01, ...,\n",
       "         1.38740338e-01,  5.83774612e-02, -6.24589040e-03],\n",
       "       [-1.53633875e+00,  2.70560901e+00,  5.93655339e-01, ...,\n",
       "        -4.63907735e-01, -7.45543808e-02,  7.15472215e-03],\n",
       "       [ 1.03358505e+00, -2.91647108e-01,  9.18082741e-01, ...,\n",
       "         1.47136620e-01,  4.26440806e-01, -1.06784027e-02],\n",
       "       ...,\n",
       "       [-9.36027575e-01, -2.06122670e+00, -7.41893123e-01, ...,\n",
       "         3.42027485e-01,  1.31963370e-01, -1.24226693e-03],\n",
       "       [-2.49610573e+00, -1.09647903e+00,  6.79869421e-01, ...,\n",
       "         1.22800156e-01, -1.51685644e-01,  1.22926825e-02],\n",
       "       [-4.38996926e-01, -6.13610447e-01,  1.40190661e+00, ...,\n",
       "        -5.49633642e-01,  3.80671383e-01, -2.26628286e-02]])"
      ]
     },
     "execution_count": 11,
     "metadata": {},
     "output_type": "execute_result"
    }
   ],
   "source": [
    "from sklearn.decomposition import PCA\n",
    "pc=PCA(n_components=17)\n",
    "pc.fit_transform(cc_scaled)"
   ]
  },
  {
   "cell_type": "code",
   "execution_count": 13,
   "metadata": {},
   "outputs": [
    {
     "data": {
      "text/html": [
       "<div>\n",
       "<style scoped>\n",
       "    .dataframe tbody tr th:only-of-type {\n",
       "        vertical-align: middle;\n",
       "    }\n",
       "\n",
       "    .dataframe tbody tr th {\n",
       "        vertical-align: top;\n",
       "    }\n",
       "\n",
       "    .dataframe thead th {\n",
       "        text-align: right;\n",
       "    }\n",
       "</style>\n",
       "<table border=\"1\" class=\"dataframe\">\n",
       "  <thead>\n",
       "    <tr style=\"text-align: right;\">\n",
       "      <th></th>\n",
       "      <th>Eigen_Values</th>\n",
       "      <th>Cumm_variance</th>\n",
       "    </tr>\n",
       "  </thead>\n",
       "  <tbody>\n",
       "    <tr>\n",
       "      <th>1</th>\n",
       "      <td>4.986533</td>\n",
       "      <td>29.33</td>\n",
       "    </tr>\n",
       "    <tr>\n",
       "      <th>2</th>\n",
       "      <td>3.728449</td>\n",
       "      <td>51.26</td>\n",
       "    </tr>\n",
       "    <tr>\n",
       "      <th>3</th>\n",
       "      <td>1.469803</td>\n",
       "      <td>59.90</td>\n",
       "    </tr>\n",
       "    <tr>\n",
       "      <th>4</th>\n",
       "      <td>1.277395</td>\n",
       "      <td>67.41</td>\n",
       "    </tr>\n",
       "    <tr>\n",
       "      <th>5</th>\n",
       "      <td>1.064924</td>\n",
       "      <td>73.67</td>\n",
       "    </tr>\n",
       "    <tr>\n",
       "      <th>6</th>\n",
       "      <td>0.930992</td>\n",
       "      <td>79.15</td>\n",
       "    </tr>\n",
       "    <tr>\n",
       "      <th>7</th>\n",
       "      <td>0.759980</td>\n",
       "      <td>83.62</td>\n",
       "    </tr>\n",
       "    <tr>\n",
       "      <th>8</th>\n",
       "      <td>0.645698</td>\n",
       "      <td>87.42</td>\n",
       "    </tr>\n",
       "    <tr>\n",
       "      <th>9</th>\n",
       "      <td>0.574994</td>\n",
       "      <td>90.80</td>\n",
       "    </tr>\n",
       "    <tr>\n",
       "      <th>10</th>\n",
       "      <td>0.442824</td>\n",
       "      <td>93.40</td>\n",
       "    </tr>\n",
       "    <tr>\n",
       "      <th>11</th>\n",
       "      <td>0.305271</td>\n",
       "      <td>95.20</td>\n",
       "    </tr>\n",
       "    <tr>\n",
       "      <th>12</th>\n",
       "      <td>0.255712</td>\n",
       "      <td>96.70</td>\n",
       "    </tr>\n",
       "    <tr>\n",
       "      <th>13</th>\n",
       "      <td>0.208458</td>\n",
       "      <td>97.93</td>\n",
       "    </tr>\n",
       "    <tr>\n",
       "      <th>14</th>\n",
       "      <td>0.191604</td>\n",
       "      <td>99.06</td>\n",
       "    </tr>\n",
       "    <tr>\n",
       "      <th>15</th>\n",
       "      <td>0.105228</td>\n",
       "      <td>99.68</td>\n",
       "    </tr>\n",
       "    <tr>\n",
       "      <th>16</th>\n",
       "      <td>0.041436</td>\n",
       "      <td>99.92</td>\n",
       "    </tr>\n",
       "    <tr>\n",
       "      <th>17</th>\n",
       "      <td>0.012597</td>\n",
       "      <td>99.99</td>\n",
       "    </tr>\n",
       "  </tbody>\n",
       "</table>\n",
       "</div>"
      ],
      "text/plain": [
       "    Eigen_Values  Cumm_variance\n",
       "1       4.986533          29.33\n",
       "2       3.728449          51.26\n",
       "3       1.469803          59.90\n",
       "4       1.277395          67.41\n",
       "5       1.064924          73.67\n",
       "6       0.930992          79.15\n",
       "7       0.759980          83.62\n",
       "8       0.645698          87.42\n",
       "9       0.574994          90.80\n",
       "10      0.442824          93.40\n",
       "11      0.305271          95.20\n",
       "12      0.255712          96.70\n",
       "13      0.208458          97.93\n",
       "14      0.191604          99.06\n",
       "15      0.105228          99.68\n",
       "16      0.041436          99.92\n",
       "17      0.012597          99.99"
      ]
     },
     "execution_count": 13,
     "metadata": {},
     "output_type": "execute_result"
    }
   ],
   "source": [
    "var1=np.cumsum(np.round(pc.explained_variance_ratio_,decimals=4)*100)\n",
    "pd.DataFrame({'Eigen_Values':pc.explained_variance_,'Cumm_variance':var1},index=range(1,18))"
   ]
  },
  {
   "cell_type": "markdown",
   "metadata": {},
   "source": [
    "6th row gives eigen value approximately equals to 1. So we'll take 6 components."
   ]
  },
  {
   "cell_type": "code",
   "execution_count": 14,
   "metadata": {},
   "outputs": [
    {
     "data": {
      "text/plain": [
       "array([[-1.76425313, -1.42357677,  0.22059979, -0.68882087, -0.04032419,\n",
       "        -0.13905696],\n",
       "       [-1.53633875,  2.70560901,  0.59365534,  0.31368   ,  1.30663728,\n",
       "        -0.64639415],\n",
       "       [ 1.03358505, -0.29164711,  0.91808274, -1.49428611, -1.54743985,\n",
       "        -0.41782618],\n",
       "       ...,\n",
       "       [-0.93602757, -2.0612267 , -0.74189312,  2.31544006, -1.18892906,\n",
       "         2.83518372],\n",
       "       [-2.49610573, -1.09647903,  0.67986942,  2.01137845, -1.38953457,\n",
       "         2.75160855],\n",
       "       [-0.43899693, -0.61361045,  1.40190661,  2.00164853, -2.76881371,\n",
       "         3.11191068]])"
      ]
     },
     "execution_count": 14,
     "metadata": {},
     "output_type": "execute_result"
    }
   ],
   "source": [
    "pc_final=PCA(n_components=6).fit_transform(cc_scaled)\n",
    "pc_final"
   ]
  },
  {
   "cell_type": "code",
   "execution_count": 15,
   "metadata": {},
   "outputs": [],
   "source": [
    "from factor_analyzer import FactorAnalyzer\n",
    "corrm=pd.DataFrame(cc_scaled).corr()\n",
    "fa=FactorAnalyzer(n_factors=6,rotation='varimax',method='principal').fit(corrm)\n",
    "loadings=pd.DataFrame(fa.loadings_,columns=['Fctr1','Fctr2','Fctr3','Fctr4','Fctr5','Fctr6'])"
   ]
  },
  {
   "cell_type": "code",
   "execution_count": 17,
   "metadata": {},
   "outputs": [],
   "source": [
    "#loadings.to_excel(r'C:\\Users\\Himanshu Shekhar Pal\\Desktop\\load_matrixl.xlsx',index=False)"
   ]
  },
  {
   "cell_type": "code",
   "execution_count": 13,
   "metadata": {},
   "outputs": [],
   "source": [
    "# Modelling with selected variables on the basis of business-logic + factor-loading(i.e. load matrix)\n",
    "\n",
    "list_var=['PURCHASES_INSTALLMENTS_FREQUENCY','PURCHASES_FREQUENCY','CASH_ADVANCE_FREQUENCY','BALANCE','PURCHASES',\n",
    "          'BALANCE_FREQUENCY','CREDIT_LIMIT','TENURE']\n",
    "cc_scaled_datframe=pd.DataFrame(cc_scaled,columns=cc1.columns)\n",
    "final_vars=cc_scaled_datframe[list_var]"
   ]
  },
  {
   "cell_type": "code",
   "execution_count": 14,
   "metadata": {},
   "outputs": [],
   "source": [
    "km_3=KMeans(n_clusters=3,random_state=786).fit(final_vars)\n",
    "km_4=KMeans(n_clusters=4,random_state=786).fit(final_vars)\n",
    "km_5=KMeans(n_clusters=5,random_state=786).fit(final_vars)\n",
    "km_6=KMeans(n_clusters=6,random_state=786).fit(final_vars)\n",
    "km_7=KMeans(n_clusters=7,random_state=786).fit(final_vars)\n",
    "km_8=KMeans(n_clusters=8,random_state=786).fit(final_vars)\n",
    "km_9=KMeans(n_clusters=9,random_state=786).fit(final_vars)"
   ]
  },
  {
   "cell_type": "markdown",
   "metadata": {},
   "source": [
    "Evaluation of clusters: "
   ]
  },
  {
   "cell_type": "markdown",
   "metadata": {},
   "source": [
    "Quantitative Evaluation."
   ]
  },
  {
   "cell_type": "code",
   "execution_count": 15,
   "metadata": {},
   "outputs": [
    {
     "name": "stdout",
     "output_type": "stream",
     "text": [
      "0    0.464469\n",
      "2    0.391620\n",
      "1    0.143911\n",
      "dtype: float64\n",
      "\n",
      "\n",
      "1    0.376313\n",
      "3    0.350726\n",
      "0    0.158436\n",
      "2    0.114525\n",
      "dtype: float64\n",
      "\n",
      "\n",
      "1    0.347933\n",
      "0    0.326145\n",
      "2    0.141788\n",
      "4    0.107933\n",
      "3    0.076201\n",
      "dtype: float64\n",
      "\n",
      "\n",
      "1    0.316425\n",
      "0    0.296313\n",
      "2    0.138659\n",
      "4    0.110056\n",
      "3    0.074302\n",
      "5    0.064246\n",
      "dtype: float64\n",
      "\n",
      "\n",
      "5    0.236872\n",
      "0    0.227598\n",
      "1    0.172179\n",
      "2    0.127933\n",
      "6    0.099330\n",
      "3    0.074525\n",
      "4    0.061564\n",
      "dtype: float64\n",
      "\n",
      "\n",
      "3    0.250615\n",
      "1    0.202011\n",
      "4    0.133184\n",
      "6    0.131285\n",
      "7    0.098771\n",
      "0    0.074078\n",
      "2    0.071732\n",
      "5    0.038324\n",
      "dtype: float64\n",
      "\n",
      "\n",
      "8    0.236983\n",
      "0    0.225251\n",
      "3    0.128492\n",
      "6    0.092961\n",
      "1    0.090391\n",
      "4    0.071620\n",
      "2    0.064022\n",
      "7    0.049274\n",
      "5    0.041006\n",
      "dtype: float64\n",
      "\n",
      "\n"
     ]
    }
   ],
   "source": [
    "print(pd.Series(km_3.labels_).value_counts()/sum(pd.Series(km_3.labels_).value_counts()));print('\\n')\n",
    "print(pd.Series(km_4.labels_).value_counts()/sum(pd.Series(km_4.labels_).value_counts()));print('\\n')\n",
    "print(pd.Series(km_5.labels_).value_counts()/sum(pd.Series(km_5.labels_).value_counts()));print('\\n')\n",
    "print(pd.Series(km_6.labels_).value_counts()/sum(pd.Series(km_6.labels_).value_counts()));print('\\n')\n",
    "print(pd.Series(km_7.labels_).value_counts()/sum(pd.Series(km_7.labels_).value_counts()));print('\\n')\n",
    "print(pd.Series(km_8.labels_).value_counts()/sum(pd.Series(km_8.labels_).value_counts()));print('\\n')\n",
    "print(pd.Series(km_9.labels_).value_counts()/sum(pd.Series(km_9.labels_).value_counts()));print('\\n')"
   ]
  },
  {
   "cell_type": "markdown",
   "metadata": {},
   "source": [
    "We can see, when the number of clusters is 4,5,6 or 7 then segment-size is well ditributed i.e. <40% & >5%"
   ]
  },
  {
   "cell_type": "code",
   "execution_count": 16,
   "metadata": {},
   "outputs": [
    {
     "data": {
      "text/plain": [
       "[0.25692156186717763,\n",
       " 0.2616016399446862,\n",
       " 0.2782705870579851,\n",
       " 0.3005581668537884,\n",
       " 0.30893820474872763,\n",
       " 0.2570439180801182,\n",
       " 0.25461076159660284,\n",
       " 0.2712495523903577,\n",
       " 0.2460211023991924,\n",
       " 0.25140344527301656,\n",
       " 0.25120813798455005]"
      ]
     },
     "execution_count": 16,
     "metadata": {},
     "output_type": "execute_result"
    }
   ],
   "source": [
    "# Silhoutte coefficient\n",
    "\n",
    "from sklearn import metrics\n",
    "k_range=range(2,13)\n",
    "scores=[]\n",
    "for k in k_range:\n",
    "    km=KMeans(n_clusters=k,random_state=786)\n",
    "    km.fit(final_vars)\n",
    "    scores.append(metrics.silhouette_score(final_vars,km.labels_))\n",
    "scores"
   ]
  },
  {
   "cell_type": "code",
   "execution_count": 17,
   "metadata": {},
   "outputs": [
    {
     "data": {
      "image/png": "[encoded data removed]",
      "text/plain": [
       "<Figure size 432x288 with 1 Axes>"
      ]
     },
     "metadata": {
      "needs_background": "light"
     },
     "output_type": "display_data"
    }
   ],
   "source": [
    "plt.plot(k_range,scores)\n",
    "plt.xlabel('No. of clusters')\n",
    "plt.ylabel('Silhouette Coefficients')\n",
    "plt.grid('True')"
   ]
  },
  {
   "cell_type": "markdown",
   "metadata": {},
   "source": [
    "Silhouette coefficient highest when number of clusters is 6."
   ]
  },
  {
   "cell_type": "code",
   "execution_count": 18,
   "metadata": {},
   "outputs": [
    {
     "data": {
      "text/html": [
       "<div>\n",
       "<style scoped>\n",
       "    .dataframe tbody tr th:only-of-type {\n",
       "        vertical-align: middle;\n",
       "    }\n",
       "\n",
       "    .dataframe tbody tr th {\n",
       "        vertical-align: top;\n",
       "    }\n",
       "\n",
       "    .dataframe thead th {\n",
       "        text-align: right;\n",
       "    }\n",
       "</style>\n",
       "<table border=\"1\" class=\"dataframe\">\n",
       "  <thead>\n",
       "    <tr style=\"text-align: right;\">\n",
       "      <th></th>\n",
       "      <th>num_clusters</th>\n",
       "      <th>cluster_errors</th>\n",
       "    </tr>\n",
       "  </thead>\n",
       "  <tbody>\n",
       "    <tr>\n",
       "      <th>0</th>\n",
       "      <td>2</td>\n",
       "      <td>54564.988340</td>\n",
       "    </tr>\n",
       "    <tr>\n",
       "      <th>1</th>\n",
       "      <td>3</td>\n",
       "      <td>46121.623207</td>\n",
       "    </tr>\n",
       "    <tr>\n",
       "      <th>2</th>\n",
       "      <td>4</td>\n",
       "      <td>39652.935407</td>\n",
       "    </tr>\n",
       "    <tr>\n",
       "      <th>3</th>\n",
       "      <td>5</td>\n",
       "      <td>33665.163132</td>\n",
       "    </tr>\n",
       "    <tr>\n",
       "      <th>4</th>\n",
       "      <td>6</td>\n",
       "      <td>28550.388304</td>\n",
       "    </tr>\n",
       "    <tr>\n",
       "      <th>5</th>\n",
       "      <td>7</td>\n",
       "      <td>26690.827172</td>\n",
       "    </tr>\n",
       "    <tr>\n",
       "      <th>6</th>\n",
       "      <td>8</td>\n",
       "      <td>24875.975329</td>\n",
       "    </tr>\n",
       "    <tr>\n",
       "      <th>7</th>\n",
       "      <td>9</td>\n",
       "      <td>23513.142347</td>\n",
       "    </tr>\n",
       "    <tr>\n",
       "      <th>8</th>\n",
       "      <td>10</td>\n",
       "      <td>22333.972542</td>\n",
       "    </tr>\n",
       "    <tr>\n",
       "      <th>9</th>\n",
       "      <td>11</td>\n",
       "      <td>21183.772891</td>\n",
       "    </tr>\n",
       "  </tbody>\n",
       "</table>\n",
       "</div>"
      ],
      "text/plain": [
       "   num_clusters  cluster_errors\n",
       "0             2    54564.988340\n",
       "1             3    46121.623207\n",
       "2             4    39652.935407\n",
       "3             5    33665.163132\n",
       "4             6    28550.388304\n",
       "5             7    26690.827172\n",
       "6             8    24875.975329\n",
       "7             9    23513.142347\n",
       "8            10    22333.972542\n",
       "9            11    21183.772891"
      ]
     },
     "execution_count": 18,
     "metadata": {},
     "output_type": "execute_result"
    }
   ],
   "source": [
    "# Elbow Analysis\n",
    "\n",
    "cluster_range=range(2,20)\n",
    "cluster_errors=[]\n",
    "for num_clusters in cluster_range:\n",
    "    clusters=KMeans(num_clusters)\n",
    "    clusters.fit(final_vars)\n",
    "    cluster_errors.append(clusters.inertia_)\n",
    "clusters_df=pd.DataFrame({'num_clusters':cluster_range,'cluster_errors':cluster_errors})\n",
    "clusters_df[0:10]"
   ]
  },
  {
   "cell_type": "code",
   "execution_count": 19,
   "metadata": {},
   "outputs": [
    {
     "data": {
      "text/plain": [
       "Text(0, 0.5, 'Errors')"
      ]
     },
     "execution_count": 19,
     "metadata": {},
     "output_type": "execute_result"
    },
    {
     "data": {
      "image/png": "[encoded data removed]",
      "text/plain": [
       "<Figure size 864x432 with 1 Axes>"
      ]
     },
     "metadata": {
      "needs_background": "light"
     },
     "output_type": "display_data"
    }
   ],
   "source": [
    "%matplotlib inline\n",
    "plt.figure(figsize=(12,6))\n",
    "plt.plot(clusters_df.num_clusters,clusters_df.cluster_errors,marker='o')\n",
    "plt.xlabel('No. of clusters')\n",
    "plt.ylabel('Errors')"
   ]
  },
  {
   "cell_type": "markdown",
   "metadata": {},
   "source": [
    "We're observing decrease in variance is flattening out at around 6."
   ]
  },
  {
   "cell_type": "code",
   "execution_count": 20,
   "metadata": {},
   "outputs": [
    {
     "data": {
      "text/html": [
       "<div>\n",
       "<style scoped>\n",
       "    .dataframe tbody tr th:only-of-type {\n",
       "        vertical-align: middle;\n",
       "    }\n",
       "\n",
       "    .dataframe tbody tr th {\n",
       "        vertical-align: top;\n",
       "    }\n",
       "\n",
       "    .dataframe thead th {\n",
       "        text-align: right;\n",
       "    }\n",
       "</style>\n",
       "<table border=\"1\" class=\"dataframe\">\n",
       "  <thead>\n",
       "    <tr style=\"text-align: right;\">\n",
       "      <th></th>\n",
       "      <th>PURCHASES_INSTALLMENTS_FREQUENCY</th>\n",
       "      <th>PURCHASES_FREQUENCY</th>\n",
       "      <th>CASH_ADVANCE_FREQUENCY</th>\n",
       "      <th>BALANCE</th>\n",
       "      <th>PURCHASES</th>\n",
       "      <th>BALANCE_FREQUENCY</th>\n",
       "      <th>CREDIT_LIMIT</th>\n",
       "      <th>TENURE</th>\n",
       "      <th>Cluster_6</th>\n",
       "    </tr>\n",
       "  </thead>\n",
       "  <tbody>\n",
       "    <tr>\n",
       "      <th>0</th>\n",
       "      <td>0.083333</td>\n",
       "      <td>0.166667</td>\n",
       "      <td>0.000000</td>\n",
       "      <td>40.900749</td>\n",
       "      <td>95.40</td>\n",
       "      <td>0.818182</td>\n",
       "      <td>1000.0</td>\n",
       "      <td>12</td>\n",
       "      <td>0</td>\n",
       "    </tr>\n",
       "    <tr>\n",
       "      <th>1</th>\n",
       "      <td>0.000000</td>\n",
       "      <td>0.000000</td>\n",
       "      <td>0.250000</td>\n",
       "      <td>3202.467416</td>\n",
       "      <td>0.00</td>\n",
       "      <td>0.909091</td>\n",
       "      <td>7000.0</td>\n",
       "      <td>12</td>\n",
       "      <td>0</td>\n",
       "    </tr>\n",
       "    <tr>\n",
       "      <th>2</th>\n",
       "      <td>0.000000</td>\n",
       "      <td>1.000000</td>\n",
       "      <td>0.000000</td>\n",
       "      <td>2495.148862</td>\n",
       "      <td>773.17</td>\n",
       "      <td>1.000000</td>\n",
       "      <td>7500.0</td>\n",
       "      <td>12</td>\n",
       "      <td>1</td>\n",
       "    </tr>\n",
       "    <tr>\n",
       "      <th>3</th>\n",
       "      <td>0.000000</td>\n",
       "      <td>0.083333</td>\n",
       "      <td>0.083333</td>\n",
       "      <td>1666.670542</td>\n",
       "      <td>1499.00</td>\n",
       "      <td>0.636364</td>\n",
       "      <td>7500.0</td>\n",
       "      <td>12</td>\n",
       "      <td>2</td>\n",
       "    </tr>\n",
       "    <tr>\n",
       "      <th>4</th>\n",
       "      <td>0.000000</td>\n",
       "      <td>0.083333</td>\n",
       "      <td>0.000000</td>\n",
       "      <td>817.714335</td>\n",
       "      <td>16.00</td>\n",
       "      <td>1.000000</td>\n",
       "      <td>1200.0</td>\n",
       "      <td>12</td>\n",
       "      <td>0</td>\n",
       "    </tr>\n",
       "    <tr>\n",
       "      <th>...</th>\n",
       "      <td>...</td>\n",
       "      <td>...</td>\n",
       "      <td>...</td>\n",
       "      <td>...</td>\n",
       "      <td>...</td>\n",
       "      <td>...</td>\n",
       "      <td>...</td>\n",
       "      <td>...</td>\n",
       "      <td>...</td>\n",
       "    </tr>\n",
       "    <tr>\n",
       "      <th>8945</th>\n",
       "      <td>0.833333</td>\n",
       "      <td>1.000000</td>\n",
       "      <td>0.000000</td>\n",
       "      <td>28.493517</td>\n",
       "      <td>291.12</td>\n",
       "      <td>1.000000</td>\n",
       "      <td>1000.0</td>\n",
       "      <td>6</td>\n",
       "      <td>3</td>\n",
       "    </tr>\n",
       "    <tr>\n",
       "      <th>8946</th>\n",
       "      <td>0.833333</td>\n",
       "      <td>1.000000</td>\n",
       "      <td>0.000000</td>\n",
       "      <td>19.183215</td>\n",
       "      <td>300.00</td>\n",
       "      <td>1.000000</td>\n",
       "      <td>1000.0</td>\n",
       "      <td>6</td>\n",
       "      <td>3</td>\n",
       "    </tr>\n",
       "    <tr>\n",
       "      <th>8947</th>\n",
       "      <td>0.666667</td>\n",
       "      <td>0.833333</td>\n",
       "      <td>0.000000</td>\n",
       "      <td>23.398673</td>\n",
       "      <td>144.40</td>\n",
       "      <td>0.833333</td>\n",
       "      <td>1000.0</td>\n",
       "      <td>6</td>\n",
       "      <td>3</td>\n",
       "    </tr>\n",
       "    <tr>\n",
       "      <th>8948</th>\n",
       "      <td>0.000000</td>\n",
       "      <td>0.000000</td>\n",
       "      <td>0.166667</td>\n",
       "      <td>13.457564</td>\n",
       "      <td>0.00</td>\n",
       "      <td>0.833333</td>\n",
       "      <td>500.0</td>\n",
       "      <td>6</td>\n",
       "      <td>3</td>\n",
       "    </tr>\n",
       "    <tr>\n",
       "      <th>8949</th>\n",
       "      <td>0.000000</td>\n",
       "      <td>0.666667</td>\n",
       "      <td>0.333333</td>\n",
       "      <td>372.708075</td>\n",
       "      <td>1093.25</td>\n",
       "      <td>0.666667</td>\n",
       "      <td>1200.0</td>\n",
       "      <td>6</td>\n",
       "      <td>3</td>\n",
       "    </tr>\n",
       "  </tbody>\n",
       "</table>\n",
       "<p>8950 rows × 9 columns</p>\n",
       "</div>"
      ],
      "text/plain": [
       "      PURCHASES_INSTALLMENTS_FREQUENCY  PURCHASES_FREQUENCY  \\\n",
       "0                             0.083333             0.166667   \n",
       "1                             0.000000             0.000000   \n",
       "2                             0.000000             1.000000   \n",
       "3                             0.000000             0.083333   \n",
       "4                             0.000000             0.083333   \n",
       "...                                ...                  ...   \n",
       "8945                          0.833333             1.000000   \n",
       "8946                          0.833333             1.000000   \n",
       "8947                          0.666667             0.833333   \n",
       "8948                          0.000000             0.000000   \n",
       "8949                          0.000000             0.666667   \n",
       "\n",
       "      CASH_ADVANCE_FREQUENCY      BALANCE  PURCHASES  BALANCE_FREQUENCY  \\\n",
       "0                   0.000000    40.900749      95.40           0.818182   \n",
       "1                   0.250000  3202.467416       0.00           0.909091   \n",
       "2                   0.000000  2495.148862     773.17           1.000000   \n",
       "3                   0.083333  1666.670542    1499.00           0.636364   \n",
       "4                   0.000000   817.714335      16.00           1.000000   \n",
       "...                      ...          ...        ...                ...   \n",
       "8945                0.000000    28.493517     291.12           1.000000   \n",
       "8946                0.000000    19.183215     300.00           1.000000   \n",
       "8947                0.000000    23.398673     144.40           0.833333   \n",
       "8948                0.166667    13.457564       0.00           0.833333   \n",
       "8949                0.333333   372.708075    1093.25           0.666667   \n",
       "\n",
       "      CREDIT_LIMIT  TENURE  Cluster_6  \n",
       "0           1000.0      12          0  \n",
       "1           7000.0      12          0  \n",
       "2           7500.0      12          1  \n",
       "3           7500.0      12          2  \n",
       "4           1200.0      12          0  \n",
       "...            ...     ...        ...  \n",
       "8945        1000.0       6          3  \n",
       "8946        1000.0       6          3  \n",
       "8947        1000.0       6          3  \n",
       "8948         500.0       6          3  \n",
       "8949        1200.0       6          3  \n",
       "\n",
       "[8950 rows x 9 columns]"
      ]
     },
     "execution_count": 20,
     "metadata": {},
     "output_type": "execute_result"
    }
   ],
   "source": [
    "# Conactenating labels found through Kmeans with data\n",
    "\n",
    "cluster_6=pd.concat([cc1[list_var],pd.Series(km_6.labels_,name='Cluster_6')],axis=1)\n",
    "cluster_6"
   ]
  },
  {
   "cell_type": "code",
   "execution_count": 21,
   "metadata": {},
   "outputs": [
    {
     "data": {
      "text/html": [
       "<div>\n",
       "<style scoped>\n",
       "    .dataframe tbody tr th:only-of-type {\n",
       "        vertical-align: middle;\n",
       "    }\n",
       "\n",
       "    .dataframe tbody tr th {\n",
       "        vertical-align: top;\n",
       "    }\n",
       "\n",
       "    .dataframe thead th {\n",
       "        text-align: right;\n",
       "    }\n",
       "</style>\n",
       "<table border=\"1\" class=\"dataframe\">\n",
       "  <thead>\n",
       "    <tr style=\"text-align: right;\">\n",
       "      <th>Cluster_6</th>\n",
       "      <th>0</th>\n",
       "      <th>1</th>\n",
       "      <th>2</th>\n",
       "      <th>3</th>\n",
       "      <th>4</th>\n",
       "      <th>5</th>\n",
       "    </tr>\n",
       "  </thead>\n",
       "  <tbody>\n",
       "    <tr>\n",
       "      <th>PURCHASES_INSTALLMENTS_FREQUENCY</th>\n",
       "      <td>0.048860</td>\n",
       "      <td>0.741388</td>\n",
       "      <td>0.188066</td>\n",
       "      <td>0.279261</td>\n",
       "      <td>0.188736</td>\n",
       "      <td>0.743521</td>\n",
       "    </tr>\n",
       "    <tr>\n",
       "      <th>PURCHASES_FREQUENCY</th>\n",
       "      <td>0.161158</td>\n",
       "      <td>0.888009</td>\n",
       "      <td>0.270054</td>\n",
       "      <td>0.421943</td>\n",
       "      <td>0.298415</td>\n",
       "      <td>0.933454</td>\n",
       "    </tr>\n",
       "    <tr>\n",
       "      <th>CASH_ADVANCE_FREQUENCY</th>\n",
       "      <td>0.157632</td>\n",
       "      <td>0.041191</td>\n",
       "      <td>0.035126</td>\n",
       "      <td>0.207227</td>\n",
       "      <td>0.445684</td>\n",
       "      <td>0.077148</td>\n",
       "    </tr>\n",
       "    <tr>\n",
       "      <th>BALANCE</th>\n",
       "      <td>1345.945733</td>\n",
       "      <td>838.218503</td>\n",
       "      <td>130.667405</td>\n",
       "      <td>942.289591</td>\n",
       "      <td>5306.024687</td>\n",
       "      <td>3189.339123</td>\n",
       "    </tr>\n",
       "    <tr>\n",
       "      <th>PURCHASES</th>\n",
       "      <td>276.332115</td>\n",
       "      <td>1152.495360</td>\n",
       "      <td>358.359807</td>\n",
       "      <td>429.641820</td>\n",
       "      <td>499.479401</td>\n",
       "      <td>5495.875652</td>\n",
       "    </tr>\n",
       "    <tr>\n",
       "      <th>BALANCE_FREQUENCY</th>\n",
       "      <td>0.971833</td>\n",
       "      <td>0.964409</td>\n",
       "      <td>0.383334</td>\n",
       "      <td>0.802511</td>\n",
       "      <td>0.990133</td>\n",
       "      <td>0.983776</td>\n",
       "    </tr>\n",
       "    <tr>\n",
       "      <th>CREDIT_LIMIT</th>\n",
       "      <td>3070.849902</td>\n",
       "      <td>4020.875778</td>\n",
       "      <td>3911.111559</td>\n",
       "      <td>2619.690856</td>\n",
       "      <td>8541.984310</td>\n",
       "      <td>9574.608696</td>\n",
       "    </tr>\n",
       "    <tr>\n",
       "      <th>TENURE</th>\n",
       "      <td>11.878959</td>\n",
       "      <td>11.888418</td>\n",
       "      <td>11.781628</td>\n",
       "      <td>7.264662</td>\n",
       "      <td>11.768528</td>\n",
       "      <td>11.939130</td>\n",
       "    </tr>\n",
       "  </tbody>\n",
       "</table>\n",
       "</div>"
      ],
      "text/plain": [
       "Cluster_6                                   0            1            2  \\\n",
       "PURCHASES_INSTALLMENTS_FREQUENCY     0.048860     0.741388     0.188066   \n",
       "PURCHASES_FREQUENCY                  0.161158     0.888009     0.270054   \n",
       "CASH_ADVANCE_FREQUENCY               0.157632     0.041191     0.035126   \n",
       "BALANCE                           1345.945733   838.218503   130.667405   \n",
       "PURCHASES                          276.332115  1152.495360   358.359807   \n",
       "BALANCE_FREQUENCY                    0.971833     0.964409     0.383334   \n",
       "CREDIT_LIMIT                      3070.849902  4020.875778  3911.111559   \n",
       "TENURE                              11.878959    11.888418    11.781628   \n",
       "\n",
       "Cluster_6                                   3            4            5  \n",
       "PURCHASES_INSTALLMENTS_FREQUENCY     0.279261     0.188736     0.743521  \n",
       "PURCHASES_FREQUENCY                  0.421943     0.298415     0.933454  \n",
       "CASH_ADVANCE_FREQUENCY               0.207227     0.445684     0.077148  \n",
       "BALANCE                            942.289591  5306.024687  3189.339123  \n",
       "PURCHASES                          429.641820   499.479401  5495.875652  \n",
       "BALANCE_FREQUENCY                    0.802511     0.990133     0.983776  \n",
       "CREDIT_LIMIT                      2619.690856  8541.984310  9574.608696  \n",
       "TENURE                               7.264662    11.768528    11.939130  "
      ]
     },
     "execution_count": 21,
     "metadata": {},
     "output_type": "execute_result"
    }
   ],
   "source": [
    "# Mean value gives a good indication of the distribution of data.So we are finding mean value for each variable for each cluster\n",
    "\n",
    "cluster_6=cluster_6.groupby('Cluster_6').apply(lambda x: x[list_var].mean()).T\n",
    "cluster_6"
   ]
  },
  {
   "cell_type": "markdown",
   "metadata": {},
   "source": [
    "Above dataframe have values, some very high(in thousands) & some very low(in few of decimals) so to convert them on a same scale(for the sake of plotting), we will apply logarithm on the entire dataframe.\n",
    "                                                                                                                              Any -ve values after logarithm will reflect, that quantity as a ratio(having value between 1 & 0)"
   ]
  },
  {
   "cell_type": "code",
   "execution_count": 23,
   "metadata": {},
   "outputs": [
    {
     "data": {
      "text/html": [
       "<div>\n",
       "<style scoped>\n",
       "    .dataframe tbody tr th:only-of-type {\n",
       "        vertical-align: middle;\n",
       "    }\n",
       "\n",
       "    .dataframe tbody tr th {\n",
       "        vertical-align: top;\n",
       "    }\n",
       "\n",
       "    .dataframe thead th {\n",
       "        text-align: right;\n",
       "    }\n",
       "</style>\n",
       "<table border=\"1\" class=\"dataframe\">\n",
       "  <thead>\n",
       "    <tr style=\"text-align: right;\">\n",
       "      <th>Cluster_6</th>\n",
       "      <th>0</th>\n",
       "      <th>1</th>\n",
       "      <th>2</th>\n",
       "      <th>3</th>\n",
       "      <th>4</th>\n",
       "      <th>5</th>\n",
       "    </tr>\n",
       "  </thead>\n",
       "  <tbody>\n",
       "    <tr>\n",
       "      <th>PURCHASES_INSTALLMENTS_FREQUENCY</th>\n",
       "      <td>-3.018804</td>\n",
       "      <td>-0.299231</td>\n",
       "      <td>-1.670961</td>\n",
       "      <td>-1.275608</td>\n",
       "      <td>-1.667408</td>\n",
       "      <td>-0.296358</td>\n",
       "    </tr>\n",
       "    <tr>\n",
       "      <th>PURCHASES_FREQUENCY</th>\n",
       "      <td>-1.825367</td>\n",
       "      <td>-0.118773</td>\n",
       "      <td>-1.309135</td>\n",
       "      <td>-0.862885</td>\n",
       "      <td>-1.209271</td>\n",
       "      <td>-0.068864</td>\n",
       "    </tr>\n",
       "    <tr>\n",
       "      <th>CASH_ADVANCE_FREQUENCY</th>\n",
       "      <td>-1.847490</td>\n",
       "      <td>-3.189535</td>\n",
       "      <td>-3.348825</td>\n",
       "      <td>-1.573941</td>\n",
       "      <td>-0.808145</td>\n",
       "      <td>-2.562030</td>\n",
       "    </tr>\n",
       "    <tr>\n",
       "      <th>BALANCE</th>\n",
       "      <td>7.204852</td>\n",
       "      <td>6.731279</td>\n",
       "      <td>4.872655</td>\n",
       "      <td>6.848313</td>\n",
       "      <td>8.576598</td>\n",
       "      <td>8.067569</td>\n",
       "    </tr>\n",
       "    <tr>\n",
       "      <th>PURCHASES</th>\n",
       "      <td>5.621603</td>\n",
       "      <td>7.049685</td>\n",
       "      <td>5.881538</td>\n",
       "      <td>6.062952</td>\n",
       "      <td>6.213566</td>\n",
       "      <td>8.611753</td>\n",
       "    </tr>\n",
       "    <tr>\n",
       "      <th>BALANCE_FREQUENCY</th>\n",
       "      <td>-0.028572</td>\n",
       "      <td>-0.036240</td>\n",
       "      <td>-0.958849</td>\n",
       "      <td>-0.220009</td>\n",
       "      <td>-0.009916</td>\n",
       "      <td>-0.016357</td>\n",
       "    </tr>\n",
       "    <tr>\n",
       "      <th>CREDIT_LIMIT</th>\n",
       "      <td>8.029710</td>\n",
       "      <td>8.299255</td>\n",
       "      <td>8.271577</td>\n",
       "      <td>7.870812</td>\n",
       "      <td>9.052749</td>\n",
       "      <td>9.166870</td>\n",
       "    </tr>\n",
       "    <tr>\n",
       "      <th>TENURE</th>\n",
       "      <td>2.474769</td>\n",
       "      <td>2.475565</td>\n",
       "      <td>2.466541</td>\n",
       "      <td>1.983022</td>\n",
       "      <td>2.465429</td>\n",
       "      <td>2.479821</td>\n",
       "    </tr>\n",
       "  </tbody>\n",
       "</table>\n",
       "</div>"
      ],
      "text/plain": [
       "Cluster_6                                0         1         2         3  \\\n",
       "PURCHASES_INSTALLMENTS_FREQUENCY -3.018804 -0.299231 -1.670961 -1.275608   \n",
       "PURCHASES_FREQUENCY              -1.825367 -0.118773 -1.309135 -0.862885   \n",
       "CASH_ADVANCE_FREQUENCY           -1.847490 -3.189535 -3.348825 -1.573941   \n",
       "BALANCE                           7.204852  6.731279  4.872655  6.848313   \n",
       "PURCHASES                         5.621603  7.049685  5.881538  6.062952   \n",
       "BALANCE_FREQUENCY                -0.028572 -0.036240 -0.958849 -0.220009   \n",
       "CREDIT_LIMIT                      8.029710  8.299255  8.271577  7.870812   \n",
       "TENURE                            2.474769  2.475565  2.466541  1.983022   \n",
       "\n",
       "Cluster_6                                4         5  \n",
       "PURCHASES_INSTALLMENTS_FREQUENCY -1.667408 -0.296358  \n",
       "PURCHASES_FREQUENCY              -1.209271 -0.068864  \n",
       "CASH_ADVANCE_FREQUENCY           -0.808145 -2.562030  \n",
       "BALANCE                           8.576598  8.067569  \n",
       "PURCHASES                         6.213566  8.611753  \n",
       "BALANCE_FREQUENCY                -0.009916 -0.016357  \n",
       "CREDIT_LIMIT                      9.052749  9.166870  \n",
       "TENURE                            2.465429  2.479821  "
      ]
     },
     "execution_count": 23,
     "metadata": {},
     "output_type": "execute_result"
    }
   ],
   "source": [
    "u=cluster_6.apply(lambda x:np.log(x))\n",
    "u"
   ]
  },
  {
   "cell_type": "code",
   "execution_count": 41,
   "metadata": {},
   "outputs": [
    {
     "data": {
      "text/plain": [
       "<matplotlib.legend.Legend at 0x2172c99d348>"
      ]
     },
     "execution_count": 41,
     "metadata": {},
     "output_type": "execute_result"
    },
    {
     "data": {
      "image/png": "[encoded data removed]",
      "text/plain": [
       "<Figure size 1080x576 with 1 Axes>"
      ]
     },
     "metadata": {
      "needs_background": "light"
     },
     "output_type": "display_data"
    }
   ],
   "source": [
    "fig,ax=plt.subplots(figsize=(15,8))\n",
    "index=np.arange(len(u.columns))\n",
    "\n",
    "PURCHASES_INSTALLMENTS_FREQUENCY=u.loc['PURCHASES_INSTALLMENTS_FREQUENCY',:].values\n",
    "PURCHASES_FREQUENCY=(u.loc['PURCHASES_FREQUENCY',:].values)\n",
    "INSTALLMENTS_PURCHASES= u.loc['CASH_ADVANCE_FREQUENCY',:].values\n",
    "PURCHASES_TRX=u.loc['BALANCE',:].values\n",
    "PURCHASES=u.loc['PURCHASES',:].values\n",
    "ONEOFF_PURCHASES_FREQUENCY=u.loc['BALANCE_FREQUENCY',:].values\n",
    "ONEOFF_PURCHASES=u.loc['CREDIT_LIMIT',:].values\n",
    "BALANCE_FREQUENCY=u.loc['TENURE',:].values\n",
    "\n",
    "bar_width=.10\n",
    "b1=plt.bar(index,PURCHASES_INSTALLMENTS_FREQUENCY,color='#e033ff',label='PURCHASES_INSTALLMENTS_FREQUENCY',width=bar_width)\n",
    "b2=plt.bar(index+bar_width,PURCHASES_FREQUENCY,color='#a2ff33',label='PURCHASES_FREQUENCY',width=bar_width)\n",
    "b3=plt.bar(index+2*bar_width,INSTALLMENTS_PURCHASES,color='#ff33a2',label='CASH_ADVANCE_FREQUENCY',width=bar_width)\n",
    "b4=plt.bar(index+3*bar_width,PURCHASES_TRX,color='#faaa0b',label='BALANCE',width=bar_width)\n",
    "b5=plt.bar(index+4*bar_width,PURCHASES,color='r',label='PURCHASES',width=bar_width)\n",
    "b6=plt.bar(index+5*bar_width,ONEOFF_PURCHASES_FREQUENCY,color='g',label='BALANCE_FREQUENCY',width=bar_width)\n",
    "b6=plt.bar(index+6*bar_width,ONEOFF_PURCHASES,color='y',label='CREDIT_LIMIT',width=bar_width)\n",
    "b6=plt.bar(index+7*bar_width,BALANCE_FREQUENCY,color='b',label='TENURE',width=bar_width)\n",
    "#b6=plt.bar(index+8*bar_width,CREDIT_LIMIT,color='#e033ff',label='CREDIT_LIMIT',width=bar_width)\n",
    "#b6=plt.bar(index+9*bar_width,MINIMUM_PAYMENTS,color='#a2ff33',label='MINIMUM_PAYMENTS',width=bar_width)\n",
    "#b6=plt.bar(index+10*bar_width,PAYMENTS,color='#ff33a2',label='PAYMENTS',width=bar_width)\n",
    "#b6=plt.bar(index+11*bar_width,BALANCE,color='#faaa0b',label='BALANCE',width=bar_width)\n",
    "\n",
    "plt.xlabel('Clusters')\n",
    "plt.title('Observations')\n",
    "plt.xticks(index + bar_width, ('Cl-0', 'Cl-1', 'Cl-2', 'Cl-3','Cl-4','Cl-5'))\n",
    "plt.legend(bbox_to_anchor=(1.0,1.0)) #shift the legend slightly outside the axes boundaries"
   ]
  },
  {
   "cell_type": "markdown",
   "metadata": {},
   "source": [
    "Strategic-Insights:-\n",
    "\n",
    "Cluster 1: They've 3rd highest MAB(monthly average balance) and purchase quite a good amount, but not quite often i.e. their purchase frequency is quite low. They are 3rd on list in terms of cash-advance-frequency, so they're not so much inclined on installment purchase.They could be offered, offers such as reward-points on EMI-purchase, cashback on EMI-purchase, greater tunure of EMI(e.g. 18 months,24 months etc.) etc. so as to keep them spending or spend more, but at the same time in EMI's so that bank can earn quite a good interest on their loans. The've high balance-frequency but credit limit is 2nd lowest.\n",
    "\n",
    "Cluster 2: These're the customers who purchase more than their MAB(monthly average balance). Their 'PURCHASES_INSTALLMENTS_FREQUENCY' is the highest i.e. whatever they purchase, mostly through EMI & purchase quite often (2nd in  this aspect); they may be offered credit limit enhancement so as to improve their MAB, no-cost EMI offers etc.\n",
    "\n",
    "Cluster 3: They also spend more than their MAB(monthly average balance), but they are not frequent spender. Also they display poor balance frequency i.e. they quite often spend more than their balance & also they have worst cash-advance frequency. bUt their tenure as our customer is high. Their credit limit is also, 3rd lowest. \n",
    "They might be customers with low-earning & thereby spend only on essentials. They may be offered low interests in case of downpayment and cash-advance, handsome cashbacks on purchase of essentials such as grocery, payment of household bills etc.\n",
    "\n",
    "Cluster 4: Their purchase frequency is 3rd highest, but neither they purchase through installments than through cash advancement. They purchase less than their monthly average balnce(MAB) despite having one of the lowest credit-limit. Their tenure as our customer is also the lowest so bank should avoid to provide them longer EMI plans they might default. They're 3rd largest EMI takers so should be offered with short-tenure no cost EMI options. Also in case they purchase anything through one-off payment they should be given option to convert them into EMI.\n",
    "\n",
    "Cluster 5: One of the least spending cluster despite having highest credit-limit. They're also the loyalest customers displaying highest tenure. Their purchase frequency is 3rd lowest and mostly purchase through cash-advancement i.e. downpayment. So low interest on case of downpayment amy tend them spend more. As reflected from their high credit limit they're high income groups so offers such as conversion of spends on dining, airport-lounge, clubs etc. into EMI, 2x---Nx reward points on EMI purchase, convenience to cash those reward points at dining, fuel etc. will might tend them move more towards EMI spending. Their EMI tenure might be kept low so as to give us slightly better returns.\n",
    "\n",
    "Cluster 6: They've the highest credit limit, highest purchase that too significantly through EMIs, but spend quite more than their MAB(monthly average balance). Also they're 2nd lowest in terms of tenure as our customers. So it's quite tough to retain them, but they are customers that give good returns. Goodies such as lifetime free credit cards, instant cash loans through credit-cards, greater EMI tenure (e.g. 18 months,24 months etc.), no-penalty on exceeding credit limit (upto a certain extent) etc. may be offered to them."
   ]
  },
  {
   "cell_type": "markdown",
   "metadata": {},
   "source": [
    "--------------------------------------------------------------------------------------------------------------"
   ]
  },
  {
   "cell_type": "markdown",
   "metadata": {},
   "source": [
    "---------------------------------------------------------------------------------------------------------------------------\n"
   ]
  },
  {
   "cell_type": "markdown",
   "metadata": {},
   "source": [
    "Above-plot without taking logarithm on the entire dataframe(just for reference)."
   ]
  },
  {
   "cell_type": "code",
   "execution_count": 29,
   "metadata": {},
   "outputs": [
    {
     "data": {
      "text/plain": [
       "<matplotlib.legend.Legend at 0x21729d83988>"
      ]
     },
     "execution_count": 29,
     "metadata": {},
     "output_type": "execute_result"
    },
    {
     "data": {
      "image/png": "[encoded data removed]",
      "text/plain": [
       "<Figure size 1080x720 with 1 Axes>"
      ]
     },
     "metadata": {
      "needs_background": "light"
     },
     "output_type": "display_data"
    }
   ],
   "source": [
    "fig,ax=plt.subplots(figsize=(15,10))\n",
    "index=np.arange(len(cluster_6.columns))\n",
    "\n",
    "PURCHASES_INSTALLMENTS_FREQUENCY=np.log(cluster_6.loc['PURCHASES_INSTALLMENTS_FREQUENCY',:].values)\n",
    "PURCHASES_FREQUENCY=(cluster_6.loc['PURCHASES_FREQUENCY',:].values)\n",
    "INSTALLMENTS_PURCHASES= np.log(cluster_6.loc['CASH_ADVANCE_FREQUENCY',:].values)\n",
    "PURCHASES_TRX=cluster_6.loc['BALANCE',:].values\n",
    "PURCHASES=cluster_6.loc['PURCHASES',:].values\n",
    "ONEOFF_PURCHASES_FREQUENCY=cluster_6.loc['BALANCE_FREQUENCY',:].values\n",
    "ONEOFF_PURCHASES=cluster_6.loc['CREDIT_LIMIT',:].values\n",
    "BALANCE_FREQUENCY=cluster_6.loc['TENURE',:].values\n",
    "\n",
    "bar_width=.10\n",
    "b1=plt.bar(index,PURCHASES_INSTALLMENTS_FREQUENCY,color='#e033ff',label='PURCHASES_INSTALLMENTS_FREQUENCY',width=bar_width)\n",
    "b2=plt.bar(index+bar_width,PURCHASES_FREQUENCY,color='#a2ff33',label='PURCHASES_FREQUENCY',width=bar_width)\n",
    "b3=plt.bar(index+2*bar_width,INSTALLMENTS_PURCHASES,color='#ff33a2',label='CASH_ADVANCE_FREQUENCY',width=bar_width)\n",
    "b4=plt.bar(index+3*bar_width,PURCHASES_TRX,color='#faaa0b',label='BALANCE',width=bar_width)\n",
    "b5=plt.bar(index+4*bar_width,PURCHASES,color='r',label='PURCHASES',width=bar_width)\n",
    "b6=plt.bar(index+5*bar_width,ONEOFF_PURCHASES_FREQUENCY,color='g',label='BALANCE_FREQUENCY',width=bar_width)\n",
    "b6=plt.bar(index+6*bar_width,ONEOFF_PURCHASES,color='y',label='CREDIT_LIMIT',width=bar_width)\n",
    "b6=plt.bar(index+7*bar_width,BALANCE_FREQUENCY,color='b',label='TENURE',width=bar_width)\n",
    "#b6=plt.bar(index+8*bar_width,CREDIT_LIMIT,color='#e033ff',label='CREDIT_LIMIT',width=bar_width)\n",
    "#b6=plt.bar(index+9*bar_width,MINIMUM_PAYMENTS,color='#a2ff33',label='MINIMUM_PAYMENTS',width=bar_width)\n",
    "#b6=plt.bar(index+10*bar_width,PAYMENTS,color='#ff33a2',label='PAYMENTS',width=bar_width)\n",
    "#b6=plt.bar(index+11*bar_width,BALANCE,color='#faaa0b',label='BALANCE',width=bar_width)\n",
    "\n",
    "plt.xlabel('Clusters')\n",
    "plt.title('Observations')\n",
    "plt.xticks(index + bar_width, ('Cl-0', 'Cl-1', 'Cl-2', 'Cl-3','Cl-4','Cl-5'))\n",
    "plt.legend()"
   ]
  },
  {
   "cell_type": "code",
   "execution_count": null,
   "metadata": {},
   "outputs": [],
   "source": []
  },
  {
   "cell_type": "code",
   "execution_count": null,
   "metadata": {},
   "outputs": [],
   "source": []
  },
  {
   "cell_type": "code",
   "execution_count": null,
   "metadata": {},
   "outputs": [],
   "source": []
  },
  {
   "cell_type": "code",
   "execution_count": null,
   "metadata": {},
   "outputs": [],
   "source": []
  }
 ],
 "metadata": {
  "kernelspec": {
   "display_name": "Python 3",
   "language": "python",
   "name": "python3"
  },
  "language_info": {
   "codemirror_mode": {
    "name": "ipython",
    "version": 3
   },
   "file_extension": ".py",
   "mimetype": "text/x-python",
   "name": "python",
   "nbconvert_exporter": "python",
   "pygments_lexer": "ipython3",
   "version": "3.7.7"
  }
 },
 "nbformat": 4,
 "nbformat_minor": 4
}
